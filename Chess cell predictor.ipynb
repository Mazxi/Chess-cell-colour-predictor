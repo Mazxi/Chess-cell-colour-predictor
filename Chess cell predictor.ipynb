{
 "cells": [
  {
   "cell_type": "code",
   "execution_count": null,
   "metadata": {},
   "outputs": [],
   "source": [
    "alpha = ['A','B','C','D','E','F','G','H']\n",
    "num = [\"1\",\"2\",\"3\",\"4\",\"5\",\"6\",\"7\",\"8\"]\n",
    "black = []\n",
    "white = []\n",
    "\n",
    "## The code block below stores the cells that are black as one group\n",
    "for i in range(0,8,2):\n",
    "    for j in range(0,8,2):\n",
    "        black.append(alpha[j]+num[i])\n",
    "for i in range(0,8,2):\n",
    "    for j in range(0,8,2):\n",
    "        black.append(alpha[j+1]+num[i+1])\n",
    "        \n",
    "        \n",
    "## The code block below stores the cells that are white as one group\n",
    "for i in range(0,8,2):\n",
    "    for j in range(7,-1,-2):\n",
    "        white.append(alpha[j]+num[i])\n",
    "for i in range(7,-1,-2):\n",
    "    for j in range(0,8,2):\n",
    "        white.append(alpha[j]+num[i])"
   ]
  },
  {
   "cell_type": "code",
   "execution_count": null,
   "metadata": {},
   "outputs": [],
   "source": [
    "## The code below checks if the cell the user inputed is a black or white cell\n",
    "board_cell = input(\"Please enter a valid chess cell: \")\n",
    "for i in range(len(white)): \n",
    "    if board_cell == white[i] and board_cell != black[i]:\n",
    "        print(\"The cell you entered is a white cell\")\n",
    "    elif board_cell != white[i] and board_cell == black[i]:\n",
    "        print(\"The cell you entered is a black cell\")       "
   ]
  }
 ],
 "metadata": {
  "kernelspec": {
   "display_name": "Python 3",
   "language": "python",
   "name": "python3"
  },
  "language_info": {
   "codemirror_mode": {
    "name": "ipython",
    "version": 3
   },
   "file_extension": ".py",
   "mimetype": "text/x-python",
   "name": "python",
   "nbconvert_exporter": "python",
   "pygments_lexer": "ipython3",
   "version": "3.7.3"
  }
 },
 "nbformat": 4,
 "nbformat_minor": 2
}
